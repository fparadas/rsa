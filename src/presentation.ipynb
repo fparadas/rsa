{
 "cells": [
  {
   "cell_type": "code",
   "execution_count": 1,
   "metadata": {},
   "outputs": [],
   "source": [
    "from RSA import RSA\n",
    "from OEAP import OEAP\n",
    "from AES import AES\n",
    "import base64\n",
    "import hashlib"
   ]
  },
  {
   "cell_type": "code",
   "execution_count": 2,
   "metadata": {},
   "outputs": [],
   "source": [
    "rsa = RSA(10)\n",
    "oeap = OEAP(1024, 512)"
   ]
  },
  {
   "cell_type": "markdown",
   "metadata": {},
   "source": [
    "# Parte I: Geração de chaves"
   ]
  },
  {
   "cell_type": "code",
   "execution_count": 3,
   "metadata": {},
   "outputs": [
    {
     "data": {
      "text/plain": [
       "{'private': (476789, 736139), 'public': (1565, 736139)}"
      ]
     },
     "execution_count": 3,
     "metadata": {},
     "output_type": "execute_result"
    }
   ],
   "source": [
    "\n",
    "keys = rsa.key_gen()\n",
    "keys"
   ]
  },
  {
   "cell_type": "markdown",
   "metadata": {},
   "source": [
    "O crivo de Erathostenes gera os primos entre 0 e 1024, após isso, é encontrado um número que não seja divisível por nenhum dos primos gerados.\n",
    "\n",
    "Caso esse número passe no teste de Miller Robin, a probabilidade dele ser um primo é altíssima."
   ]
  },
  {
   "cell_type": "markdown",
   "metadata": {},
   "source": [
    "O algoritmo `key_gen` é responsável por gerar as chaves\n",
    "\n",
    "```\n",
    "    def key_gen(self, pq=None):\n",
    "        if not pq:\n",
    "            p = self.gen_prime()\n",
    "            q = self.gen_prime()\n",
    "        else:\n",
    "            p, q = pq\n",
    "\n",
    "        while p == q:\n",
    "            q = self.gen_prime()\n",
    "        \n",
    "        n = p*q\n",
    "        lambda_n = (p-1)*(q-1)\n",
    "        e = random.randrange(1,lambda_n)\n",
    "\n",
    "        while math.gcd(e, lambda_n) != 1:\n",
    "            e = random.randrange(1,lambda_n)\n",
    "        \n",
    "        d = RSA.eucalg(e, lambda_n)[0]\n",
    "        if d < 0: d += lambda_n\n",
    "\n",
    "        return {\"private\": (d, n), \"public\": (e, n)}\n",
    "```"
   ]
  },
  {
   "cell_type": "markdown",
   "metadata": {},
   "source": [
    "# Parte II: Cifra Simétrica"
   ]
  },
  {
   "cell_type": "code",
   "execution_count": 4,
   "metadata": {},
   "outputs": [
    {
     "data": {
      "text/plain": [
       "32"
      ]
     },
     "execution_count": 4,
     "metadata": {},
     "output_type": "execute_result"
    }
   ],
   "source": [
    "key = AES.create_key() # geração da chave\n",
    "enc_key = oeap.encrypt(key) # Cifração assimétrica da chave de sessão\n",
    "len(key)"
   ]
  },
  {
   "cell_type": "code",
   "execution_count": 47,
   "metadata": {},
   "outputs": [
    {
     "data": {
      "text/plain": [
       "'92015edb78ba3ab51b1f7d4879787d52'"
      ]
     },
     "execution_count": 47,
     "metadata": {},
     "output_type": "execute_result"
    }
   ],
   "source": [
    "aes = AES(bytes.fromhex(key))\n",
    "\n",
    "\n",
    "msg = \"6bc1bee22e409f96e93d7e117393172a\"\n",
    "\n",
    "cip = aes.cipher(bytes.fromhex(msg))\n",
    "cip.hex()"
   ]
  },
  {
   "cell_type": "code",
   "execution_count": 48,
   "metadata": {},
   "outputs": [
    {
     "data": {
      "text/plain": [
       "'6bc1bee22e409f96e93d7e117393172a'"
      ]
     },
     "execution_count": 48,
     "metadata": {},
     "output_type": "execute_result"
    }
   ],
   "source": [
    "dec = aes.decipher(cip)\n",
    "dec.hex()"
   ]
  },
  {
   "cell_type": "markdown",
   "metadata": {},
   "source": [
    "# Parte III: Geração de assinatura"
   ]
  },
  {
   "cell_type": "code",
   "execution_count": 53,
   "metadata": {},
   "outputs": [
    {
     "data": {
      "text/plain": [
       "[431238,\n",
       " 0,\n",
       " 454413,\n",
       " 68095,\n",
       " 593974,\n",
       " 306262,\n",
       " 434173,\n",
       " 337689,\n",
       " 561615,\n",
       " 479858,\n",
       " 249157,\n",
       " 30304,\n",
       " 331722,\n",
       " 543786,\n",
       " 477188,\n",
       " 146903,\n",
       " 217072,\n",
       " 657536,\n",
       " 59998,\n",
       " 373977,\n",
       " 593974,\n",
       " 473322,\n",
       " 377656,\n",
       " 30304,\n",
       " 190749,\n",
       " 578878,\n",
       " 407095,\n",
       " 175840,\n",
       " 354867,\n",
       " 473322,\n",
       " 191943,\n",
       " 190749]"
      ]
     },
     "execution_count": 53,
     "metadata": {},
     "output_type": "execute_result"
    }
   ],
   "source": [
    "sha3 = hashlib.sha3_256()\n",
    "sha3.update(\"Opa meu rei, tudo certo?\".encode())\n",
    "\n",
    "msg_hash = sha3.digest()\n",
    "\n",
    "signed = rsa.cipher(keys[\"public\"], msg_hash.decode('latin-1'))\n",
    "signed"
   ]
  },
  {
   "cell_type": "code",
   "execution_count": 54,
   "metadata": {},
   "outputs": [
    {
     "name": "stdout",
     "output_type": "stream",
     "text": [
      "Valid\n"
     ]
    }
   ],
   "source": [
    "textt = rsa.decipher(keys[\"private\"], signed)\n",
    "\n",
    "if msg_hash == textt.encode('latin-1'):\n",
    "    print(\"Valid\")\n",
    "else:\n",
    "    print(\"Invalid\")"
   ]
  },
  {
   "cell_type": "code",
   "execution_count": null,
   "metadata": {},
   "outputs": [],
   "source": []
  }
 ],
 "metadata": {
  "kernelspec": {
   "display_name": "Python 3.10.4 64-bit",
   "language": "python",
   "name": "python3"
  },
  "language_info": {
   "codemirror_mode": {
    "name": "ipython",
    "version": 3
   },
   "file_extension": ".py",
   "mimetype": "text/x-python",
   "name": "python",
   "nbconvert_exporter": "python",
   "pygments_lexer": "ipython3",
   "version": "3.10.4"
  },
  "orig_nbformat": 4,
  "vscode": {
   "interpreter": {
    "hash": "916dbcbb3f70747c44a77c7bcd40155683ae19c65e1c03b4aa3499c5328201f1"
   }
  }
 },
 "nbformat": 4,
 "nbformat_minor": 2
}
